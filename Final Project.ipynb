{
 "cells": [
  {
   "cell_type": "markdown",
   "metadata": {},
   "source": [
    "## Introduction"
   ]
  },
  {
   "cell_type": "markdown",
   "metadata": {},
   "source": [
    "The forest fire model clearly involves a multitude of physical factors, but the virtually unlimited variables can not all be evaluated in this project. Therefore, this research will only consider three physical attributes that can influence the spread of a fire: the varying slopes of hills and valleys, and weather factors such as wind, and possibly precipitation. All of these variables will be calculated in separate equations in order to define our percolation variable for each \"cell\" or each piece of vegetation. This percolation variable is the deciding factor in whether or not the fire continues to spread. Equally as important are the constants that are going to influence this experiment. \n",
    "\n",
    "While forest fires can have conditions that change rapidly, it is necessary to set up some constants that will set the boundaries for the model below. The first \"constant\" is not defined specifically, but rather a distance value that is defined within a certain range and selected in a random fashion. It is important to define this distance value because there are certain separation numbers that would be too close and unrealistic for supporting growth of vegetation. But, it is also to generate it randomly, as few trees grow the same exact distance apart, let alone an entire forest. Another constant will be the size of the \"forest\" in our model, as well as the rate at which ground vegetation aids the transmission of fire, including the burning temperature of different types of fuels. The ground vegetation will be assigned a simple \"transferrable\" or \"non-transferrable\" in order to limit the variables that have to be determined. Finally, the final constant will be the resources allocated to fight the fire, as human involvement cannot be discounted in this model. Therefore, a set number of fire fighting resources will be determined, as well as their effectiveness, which is limited in real life scenarios as well."
   ]
  },
  {
   "cell_type": "markdown",
   "metadata": {},
   "source": [
    "## Model"
   ]
  },
  {
   "cell_type": "markdown",
   "metadata": {},
   "source": [
    "With this research, it is important to limit the amount of variables and constants, as real-world forest fires have endless factors that play a role. Most of this project doesn't require units, as the outputs are simply meant to adjust burn probability. Thus, the first equation will generate a series of burn points based on an input slope, and the spacing between vegetation which will be defined by a random generator. These burn points will be used in the percolation equation to adjust the probability that a certain spot will catch on fire. The second equation will generate another list of burn points based on the input level of wind, which can be set to vary through a separate equation that generates wind values. These wind values will again be used in the final percolation equation. The percolation will take these burn points, and output burn probabilities for each cell in the simulation, while also adjusting using the ground vegetation and resources constants. Any probability above the determined percolation constant will result in a burned cell."
   ]
  },
  {
   "cell_type": "markdown",
   "metadata": {},
   "source": [
    "## Numerical Methods"
   ]
  },
  {
   "cell_type": "markdown",
   "metadata": {},
   "source": [
    "I am using a two dimensional cellular animation to display the results of a percolation equation that calculates the burn probability of a cell. This equation will utilize a combination of random number generation, adjusted probability numbers and the constants mentioned above. The boundary for my research will be the end of the simulation, which represents the time at which the fire leaves the designated region."
   ]
  },
  {
   "cell_type": "markdown",
   "metadata": {},
   "source": [
    "## Code"
   ]
  },
  {
   "cell_type": "code",
   "execution_count": 1,
   "metadata": {},
   "outputs": [
    {
     "ename": "SyntaxError",
     "evalue": "invalid syntax (<ipython-input-1-8f6486742763>, line 7)",
     "output_type": "error",
     "traceback": [
      "\u001b[0;36m  File \u001b[0;32m\"<ipython-input-1-8f6486742763>\"\u001b[0;36m, line \u001b[0;32m7\u001b[0m\n\u001b[0;31m    percolation_constant =                                          #the point determining if material can burn or not\u001b[0m\n\u001b[0m                                                                                                                      ^\u001b[0m\n\u001b[0;31mSyntaxError\u001b[0m\u001b[0;31m:\u001b[0m invalid syntax\n"
     ]
    }
   ],
   "source": [
    "import numpy as np\n",
    "import matplotlib.pyplot as plt\n",
    "from matplotlib import animation\n",
    "from matplotlib import colors\n",
    "\n",
    "\n",
    "percolation_constant =                                          #the point determining if material can burn or not\n",
    "\n",
    "vegetation_spacing =                                            #a random list determining spacing between materials\n",
    "\n",
    "resources =                                                     #the impact of resources on the burn potential of cells\n",
    "\n",
    "\n",
    "def ground_vegetation: \n",
    "    \n",
    "    \"\"\"Assigns a transferrable or non-transferrable designation to ground vegetation.\"\"\"\n",
    "    \n",
    "    if True:\n",
    "        return 1\n",
    "    else:\n",
    "        return 0\n",
    "\n",
    "def slope(x):\n",
    "    \n",
    "    \"\"\"Based on an input slope list (x), generates a series of burn points for percolation equation.\"\"\"\n",
    "\n",
    "    return burn_list1\n",
    "\n",
    "\n",
    "def wind(y):\n",
    "    \n",
    "    \"\"\"Based on an input wind list (y), generates a series of burn points for percolation equation.\"\"\"\n",
    "    \n",
    "    return burn_list2\n",
    "\n",
    "\n",
    "def percolation(slope, wind):\n",
    "    \n",
    "    \"\"\"Takes defined burn factors and returns final burn probabilities, adjusting for ground_vegetation and resources.\"\"\"\n",
    "    \n",
    "    return percolation_list\n",
    "\n",
    "\n",
    "# Displacements from a cell to its eight nearest neighbours\n",
    "neighbourhood = ((-1,-1), (-1,0), (-1,1), (0,-1), (0, 1), (1,-1), (1,0), (1,1))\n",
    "EMPTY, TREE, FIRE = 0, 1, 2\n",
    "# Colours for visualization: brown for EMPTY, dark green for TREE and orange\n",
    "# for FIRE. Note that for the colormap to work, this list and the bounds list\n",
    "# must be one larger than the number of different values in the array.\n",
    "colors_list = [(0.2,0,0), (0,0.5,0), (1,0,0), 'orange']\n",
    "cmap = colors.ListedColormap(colors_list)\n",
    "bounds = [0,1,2,3]\n",
    "norm = colors.BoundaryNorm(bounds, cmap.N)\n",
    "\n",
    "def iterate(X):\n",
    "    \"\"\"Iterate the forest according to the forest-fire rules.\"\"\"\n",
    "\n",
    "    # The boundary of the forest is always empty, so only consider cells\n",
    "    # indexed from 1 to nx-2, 1 to ny-2\n",
    "    X1 = np.zeros((ny, nx))\n",
    "    for ix in range(1,nx-1):\n",
    "        for iy in range(1,ny-1):\n",
    "            if X[iy,ix] == EMPTY and np.random.random() <= p:\n",
    "                X1[iy,ix] = TREE\n",
    "            if X[iy,ix] == TREE:\n",
    "                X1[iy,ix] = TREE\n",
    "                for dx,dy in neighbourhood:\n",
    "                    if X[iy+dy,ix+dx] == FIRE:\n",
    "                        X1[iy,ix] = FIRE\n",
    "                        break\n",
    "                else:\n",
    "                    if np.random.random() <= f:\n",
    "                        X1[iy,ix] = FIRE\n",
    "    return X1\n",
    "\n",
    "# The initial fraction of the forest occupied by trees.\n",
    "forest_fraction = 0.2\n",
    "# Probability of new tree growth per empty cell, and of lightning strike.\n",
    "p, f = 0.05, 0.001\n",
    "# Forest size (number of cells in x and y directions).\n",
    "nx, ny = 100, 100\n",
    "# Initialize the forest grid.\n",
    "X  = np.zeros((ny, nx))\n",
    "X[1:ny-1, 1:nx-1] = np.random.randint(0, 2, size=(ny-2, nx-2))\n",
    "X[1:ny-1, 1:nx-1] = np.random.random(size=(ny-2, nx-2)) < forest_fraction\n",
    "\n",
    "fig = plt.figure(figsize=(25/3, 6.25))\n",
    "ax = fig.add_subplot(111)\n",
    "ax.set_axis_off()\n",
    "im = ax.imshow(X, cmap=cmap, norm=norm)#, interpolation='nearest')\n",
    "\n",
    "# The animation function: called to produce a frame for each generation.\n",
    "def animate(i):\n",
    "    im.set_data(animate.X)\n",
    "    animate.X = iterate(animate.X)\n",
    "# Bind our grid to the identifier X in the animate function's namespace.\n",
    "animate.X = X\n",
    "\n",
    "# Interval between frames (ms).\n",
    "interval = 100\n",
    "anim = animation.FuncAnimation(fig, animate, interval=interval)\n",
    "plt.show()"
   ]
  },
  {
   "cell_type": "code",
   "execution_count": null,
   "metadata": {},
   "outputs": [],
   "source": []
  }
 ],
 "metadata": {
  "kernelspec": {
   "display_name": "Python 3",
   "language": "python",
   "name": "python3"
  },
  "language_info": {
   "codemirror_mode": {
    "name": "ipython",
    "version": 3
   },
   "file_extension": ".py",
   "mimetype": "text/x-python",
   "name": "python",
   "nbconvert_exporter": "python",
   "pygments_lexer": "ipython3",
   "version": "3.7.3"
  }
 },
 "nbformat": 4,
 "nbformat_minor": 4
}
