{
 "cells": [
  {
   "cell_type": "markdown",
   "metadata": {},
   "source": [
    "## Introduction"
   ]
  },
  {
   "cell_type": "markdown",
   "metadata": {},
   "source": [
    "Forest fires are a natural disaster that have been a hot topic for scientists, as of late, due to their increase in ferquency which coincides with the issue of climate change. In the United States alone, over 70,000 forest fires burn an average of 7 million acres every year (1). Wildfires are often directly influenced by human interaction, with close to 90% of them having some link to a man-made ignition point (1). Another major factor in the spread of forest fires is the topography of the land. Fire travels much faster uphill than downhill, as it is able to preheat the fuel above the flames, which also means that the steeper the gradient of the hill, the faster the fire will spread (2). Finally, the type of fuel the fire is burning through contributes to the speed, flame size, and temperature of the fire. Larger fuels, such as trees and heavy slash (fallen branches, brush, etc.), burns hotter, with a larger flame size, than smaller fuels such as grass and thin brush (spread out over a larger area) (3). Historically, forests have contained roughly 50-70 trees per acre, while today, in some parts of the United States, forests contain anywhere from 500-1000 trees per acre (4). This overcrowding of forests has led to both high mortality rates among trees, and explosive forest fires that devastate entire tree populations in record times.\n",
    "\n",
    "The forest fire model clearly involves a multitude of physical factors, but the virtually unlimited variables can not all be evaluated in this project. Therefore, this research will only consider three physical attributes that can influence the spread of a fire: the varying slopes of hills and valleys, the type of fuel the fire is burning through, and the concentration of trees in the simulated forest. With lower burn impacts, ground vegetation will have less of a chance of spreading from cell to cell than larger fuels like the trees in this scenario. In order to mimic a forest that has sub-optimum conditions for a forest fire, the concentration of trees will start at 150 per designated acre. Finally, in an effort to mimic terrain that doesn't rise and fall in an easily modeled fashion, the slopes that trees are on will be generated in a semi-random fashion that will be described in further detail in the model section below. The larger the slope value, the more likely the transition from one cell to the next.\n",
    "\n",
    "While forest fires can have conditions that change rapidly, it is necessary to set up some constants that will set the boundaries for the model below. The size of the forest will be predetermined for each experiment, but the simulation will end once the fire has left the selected section of forest. The goal of this simulation is to experiment with ways to reduce the transition rate of fire from one cell to the next, in an effort to determine actual physical measures that humans can take to limit the impact of forest fires. Therefore, multiple simulations will be run with different possible values for slope size, different rates of ground vegetation fire transition and varying density of trees per acre. By the end of this project, the research should convey data on how the aforementioned factors relate to the spread of fire, as well as which preventitive measures (changing the variables) achieved effective results."
   ]
  },
  {
   "cell_type": "markdown",
   "metadata": {},
   "source": [
    "## Model"
   ]
  },
  {
   "cell_type": "markdown",
   "metadata": {},
   "source": [
    "With this research, it is important to limit the amount of variables and constants, as real-world forest fires have endless factors that play a role. Most of this project doesn't require units, as the outputs are simply meant to adjust burn probability. Thus, the first equation will generate a series of burn points based on an input slope, and the spacing between vegetation which will be defined by a random generator. These burn points will be used in the percolation equation to adjust the probability that a certain spot will catch on fire. The second equation will generate another list of burn points based on the input level of wind, which can be set to vary through a separate equation that generates wind values. These wind values will again be used in the final percolation equation. The percolation will take these burn points, and output burn probabilities for each cell in the simulation, while also adjusting using the ground vegetation and resources constants. Any probability above the determined percolation constant will result in a burned cell."
   ]
  },
  {
   "cell_type": "markdown",
   "metadata": {},
   "source": [
    "## Numerical Methods"
   ]
  },
  {
   "cell_type": "markdown",
   "metadata": {},
   "source": [
    "I am using a two dimensional cellular animation to display the results of a percolation equation that calculates the burn probability of a cell. This equation will utilize a combination of random number generation, adjusted probability numbers and the constants mentioned above. The boundary for my research will be the end of the simulation, which represents the time at which the fire leaves the designated region. For the slope model specifically, I will be using the quadratic equation $-.1x^2$ to represent the hill that the fire will be travelling up and down. This equation gives slope values that are easy to work with, and fits well within the boundaries of our research. Also, the slope will be taken from the derivative of the function and used directly to calculate burn probabilities."
   ]
  },
  {
   "cell_type": "markdown",
   "metadata": {},
   "source": [
    "## Code"
   ]
  },
  {
   "cell_type": "code",
   "execution_count": 13,
   "metadata": {},
   "outputs": [
    {
     "name": "stdout",
     "output_type": "stream",
     "text": [
      "2.486072421563174\n"
     ]
    }
   ],
   "source": [
    "rng = np.random.default_rng()  # Create a default random number Generator\n",
    "print(rng.uniform(1, 3))       # Test case"
   ]
  },
  {
   "cell_type": "code",
   "execution_count": 17,
   "metadata": {},
   "outputs": [
    {
     "data": {
      "image/png": "[encoded data removed]",
      "text/plain": [
       "<Figure size 600x450 with 1 Axes>"
      ]
     },
     "metadata": {
      "needs_background": "light"
     },
     "output_type": "display_data"
    }
   ],
   "source": [
    "import numpy as np\n",
    "import matplotlib.pyplot as plt\n",
    "from matplotlib import animation\n",
    "from matplotlib import colors\n",
    "\n",
    "\n",
    "\n",
    "#our slope equation is based on the quadtratic parabola created by -ax^2, as the slope of this mimics a hill\n",
    "def slope(X):\n",
    "    \n",
    "    \"\"\"Based on an input tree location list (x), generates a series of burn points for percolation equation.\"\"\"\n",
    "    \n",
    "    \n",
    "    r = rng.uniform(.1, .4)                             #generates a random hill slope gradient based\n",
    "                                                             #on a negative quadratic derivative\n",
    "    y = -r * float(rng.uniform(-3, 3))                                        \n",
    "        \n",
    "    y = float(y)\n",
    "        \n",
    "    if y > .25:\n",
    "        X1[iy, ix] = FIRE                                #assigns a burn designation based on the slope\n",
    "            \n",
    "        \n",
    "    elif -.25 < y < .25:\n",
    "        x = np.random.random()\n",
    "        if x <= .5:\n",
    "            X1[iy, ix] = FIRE\n",
    "        else:\n",
    "            X1[iy, ix] = TREE\n",
    "            \n",
    "    else:\n",
    "        x = np.random.random()\n",
    "        if x < .25:\n",
    "            X1[iy, ix] = FIRE\n",
    "                \n",
    "        else:\n",
    "            X1[iy, ix] = TREE\n",
    "            \n",
    "        \n",
    "    return X1[iy, ix]   \n",
    "\n",
    "\n",
    "\n",
    "# Displacements from a cell to its eight nearest neighbours\n",
    "neighbourhood = ((-1,-1), (-1,0), (-1,1), (0,-1), (0, 1), (1,-1), (1,0), (1,1))\n",
    "EMPTY, TREE, UNCERTAIN, VEGETATION, FIRE = 0, 1, 2, 3, 4\n",
    "# Colours for visualization: brown for EMPTY, dark green for TREE and orange\n",
    "# for FIRE. Note that for the colormap to work, this list and the bounds list\n",
    "# must be one larger than the number of different values in the array.\n",
    "colors_list = [(0.2,0,0), (0,0.5,0), (1,0,0), 'orange']\n",
    "cmap = colors.ListedColormap(colors_list)\n",
    "bounds = [0,1,2,3]\n",
    "norm = colors.BoundaryNorm(bounds, cmap.N)\n",
    "\n",
    "\n",
    "def iterate(X):\n",
    "    \"\"\"Iterate the forest according to the forest-fire rules.\"\"\"\n",
    "\n",
    "    # The boundary of the forest is always empty, so only consider cells\n",
    "    # indexed from 1 to nx-2, 1 to ny-2\n",
    "    X1 = np.zeros((ny, nx))\n",
    "    for ix in range(1,nx-1):\n",
    "        for iy in range(1,ny-1):\n",
    "            if X[iy,ix] == EMPTY and np.random.random() <= p:\n",
    "                X1[iy,ix] = TREE\n",
    "            \n",
    "            if X[iy,ix] == TREE:\n",
    "                X1[iy,ix] = TREE\n",
    "            \n",
    "            if X[iy, ix] == EMPTY and p < np.random.random() < b:\n",
    "                X1[iy,ix] = VEGETATION\n",
    "                \n",
    "                for dx,dy in neighbourhood:\n",
    "                    \n",
    "                    if X[iy+dy,ix+dx] == UNCERTAIN:\n",
    "                        slope(X)\n",
    "                    \n",
    "                    if X1[iy, ix] == VEGETATION:\n",
    "                        x = np.random.random()\n",
    "                        if x < .5:\n",
    "                            X1[iy,ix] = FIRE\n",
    "                        else:\n",
    "                            X1[iy,ix] = EMPTY\n",
    "                        break\n",
    "                else:\n",
    "                    if np.random.random() <= f:\n",
    "                        X1[iy,ix] = FIRE\n",
    "    return X1\n",
    "# The initial fraction of the forest occupied by trees.\n",
    "forest_fraction = 0.2\n",
    "# Probability of new tree growth per empty cell, vegetation per empty cell, and of lightning strike.\n",
    "p, b, f = 0.05, .85, .001\n",
    "# Forest size (number of cells in x and y directions).\n",
    "nx, ny = 100, 100\n",
    "# Initialize the forest grid.\n",
    "X  = np.zeros((ny, nx))\n",
    "X[1:ny-1, 1:nx-1] = np.random.randint(0, 2, size=(ny-2, nx-2))\n",
    "X[1:ny-1, 1:nx-1] = np.random.random(size=(ny-2, nx-2)) < forest_fraction\n",
    "\n",
    "fig = plt.figure(figsize=(25/3, 6.25))\n",
    "ax = fig.add_subplot(111)\n",
    "ax.set_axis_off()\n",
    "im = ax.imshow(X, cmap=cmap, norm=norm)#, interpolation='nearest')\n",
    "\n",
    "# The animation function: called to produce a frame for each generation.\n",
    "def animate(i):\n",
    "    im.set_data(animate.X)\n",
    "    animate.X = iterate(animate.X)\n",
    "# Bind our grid to the identifier X in the animate function's namespace.\n",
    "animate.X = X\n",
    "\n",
    "# Interval between frames (ms).\n",
    "interval = 100\n",
    "anim = animation.FuncAnimation(fig, animate, interval=interval)\n",
    "plt.show()"
   ]
  },
  {
   "cell_type": "code",
   "execution_count": null,
   "metadata": {},
   "outputs": [],
   "source": []
  }
 ],
 "metadata": {
  "kernelspec": {
   "display_name": "Python 3",
   "language": "python",
   "name": "python3"
  },
  "language_info": {
   "codemirror_mode": {
    "name": "ipython",
    "version": 3
   },
   "file_extension": ".py",
   "mimetype": "text/x-python",
   "name": "python",
   "nbconvert_exporter": "python",
   "pygments_lexer": "ipython3",
   "version": "3.7.3"
  }
 },
 "nbformat": 4,
 "nbformat_minor": 4
}
