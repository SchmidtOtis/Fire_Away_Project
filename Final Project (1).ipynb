{
 "cells": [
  {
   "cell_type": "markdown",
   "metadata": {},
   "source": [
    "## Introduction"
   ]
  },
  {
   "cell_type": "markdown",
   "metadata": {},
   "source": [
    "The forest fire model clearly involves a multitude of physical factors, but the virtually unlimited variables can not all be evaluated in this project. Therefore, this research will only consider three physical attributes that can influence the spread of a fire: the varying slopes of hills and valleys, and weather factors such as wind, and possibly precipitation. All of these variables will be calculated in separate equations in order to define our percolation variable for each \"cell\" or each piece of vegetation. This percolation variable is the deciding factor in whether or not the fire continues to spread. Equally as important are the constants that are going to influence this experiment. \n",
    "\n",
    "While forest fires can have conditions that change rapidly, it is necessary to set up some constants that will set the boundaries for the model below. The first \"constant\" is not defined specifically, but rather a distance value that is defined within a certain range and selected in a random fashion. It is important to define this distance value because there are certain separation numbers that would be too close and unrealistic for supporting growth of vegetation. But, it is also to generate it randomly, as few trees grow the same exact distance apart, let alone an entire forest. Another constant will be the size of the \"forest\" in our model, as well as the rate at which ground vegetation aids the transmission of fire, including the burning temperature of different types of fuels. The ground vegetation will be assigned a simple \"transferrable\" or \"non-transferrable\" in order to limit the variables that have to be determined. Finally, the final constant will be the resources allocated to fight the fire, as human involvement cannot be discounted in this model. Therefore, a set number of fire fighting resources will be determined, as well as their effectiveness, which is limited in real life scenarios as well."
   ]
  },
  {
   "cell_type": "markdown",
   "metadata": {},
   "source": [
    "## Model"
   ]
  },
  {
   "cell_type": "markdown",
   "metadata": {},
   "source": [
    "With this research, it is important to limit the amount of variables and constants, as real-world forest fires have endless factors that play a role. Most of this project doesn't require units, as the outputs are simply meant to adjust burn probability. Thus, the first equation will generate a series of burn points based on an input slope, and the spacing between vegetation which will be defined by a random generator. These burn points will be used in the percolation equation to adjust the probability that a certain spot will catch on fire. The second equation will generate another list of burn points based on the input level of wind, which can be set to vary through a separate equation that generates wind values. These wind values will again be used in the final percolation equation. The percolation will take these burn points, and output burn probabilities for each cell in the simulation, while also adjusting using the ground vegetation and resources constants. Any probability above the determined percolation constant will result in a burned cell."
   ]
  },
  {
   "cell_type": "markdown",
   "metadata": {},
   "source": [
    "## Numerical Methods"
   ]
  },
  {
   "cell_type": "markdown",
   "metadata": {},
   "source": [
    "I am using a two dimensional cellular animation to display the results of a percolation equation that calculates the burn probability of a cell. This equation will utilize a combination of random number generation, adjusted probability numbers and the constants mentioned above. The boundary for my research will be the end of the simulation, which represents the time at which the fire leaves the designated region. For the slope model specifically, I will be using the quadratic equation $-.1x^2$ to represent the hill that the fire will be travelling up and down. This equation gives slope values that are easy to work with, and fits well within the boundaries of our research. Also, the slope will be taken from the derivative of the function and used directly to calculate burn probabilities."
   ]
  },
  {
   "cell_type": "markdown",
   "metadata": {},
   "source": [
    "## Code"
   ]
  },
  {
   "cell_type": "code",
   "execution_count": 11,
   "metadata": {},
   "outputs": [
    {
     "data": {
      "image/png": "[encoded data removed]",
      "text/plain": [
       "<Figure size 600x450 with 1 Axes>"
      ]
     },
     "metadata": {
      "needs_background": "light"
     },
     "output_type": "display_data"
    }
   ],
   "source": [
    "import numpy as np\n",
    "import matplotlib.pyplot as plt\n",
    "from matplotlib import animation\n",
    "from matplotlib import colors\n",
    "\n",
    "\n",
    "#percolation_constant =                                          #the point determining if material can burn or not\n",
    "\n",
    "#vegetation_spacing =                                            #a random list determining spacing between materials\n",
    "\n",
    "#resources =                                                     #the impact of resources on the burn potential of cells\n",
    "\n",
    "\n",
    "def ground_vegetation(x): \n",
    "    \n",
    "    \"\"\"Assigns a transferrable or non-transferrable designation to ground vegetation.\"\"\"\n",
    "    \n",
    "    vegetation_list = []                                       #creates a list for burn values\n",
    "    \n",
    "    for h in range(x):\n",
    "        \n",
    "        x = h%2\n",
    "        \n",
    "        if x == 1:\n",
    "            vegetation_list.append(2)                           #appends a burn or no burn status\n",
    "        else:\n",
    "            vegetation_list.append(0)\n",
    "    \n",
    "    return vegetation_list\n",
    "\n",
    "#our slope equation is based on the quadtratic parabola created by -.1x^2, as the slope of this mimics a hill\n",
    "def slope(x):\n",
    "    \n",
    "    \"\"\"Based on an input tree location list (x), generates a series of burn points for percolation equation.\"\"\"\n",
    "    \n",
    "    burn_list1 = []\n",
    "    \n",
    "    forest = np.linspace(-10, 10, .1)                           #creates the range of cells to be evaluated\n",
    "    \n",
    "    for k in forest:\n",
    "        y = -.2 * float(k)\n",
    "        \n",
    "        y = float(y)\n",
    "        \n",
    "        if y > .75:\n",
    "            burn_list1.append(2)                                #assigns a burn designation based on the slope\n",
    "            \n",
    "        elif -.75 < y < .75:\n",
    "            \n",
    "            r = y/.1\n",
    "            \n",
    "            z = r%2\n",
    "            \n",
    "            if z == 0:\n",
    "                burn_list1.append(3)\n",
    "            else:\n",
    "                burn_list1.append(2)\n",
    "        \n",
    "        else:\n",
    "            r = y/.1\n",
    "            \n",
    "            z = r%2\n",
    "            \n",
    "            if z == 0:\n",
    "                burn_list1.append(0)\n",
    "            else:\n",
    "                burn_list1.append(3)\n",
    "            \n",
    "\n",
    "    \n",
    "    return burn_list1   \n",
    "\n",
    "\n",
    "#def wind(y):\n",
    "    \n",
    "   #\"\"\"Based on an input wind list (y), generates a series of burn points for percolation equation.\"\"\"\n",
    "    \n",
    "    #return burn_list2\n",
    "\n",
    "\n",
    "#def percolation(slope, wind):\n",
    "    \n",
    "    #\"\"\"Takes defined burn factors and returns final burn probabilities, adjusting for ground_vegetation and resources.\"\"\"\n",
    "    \n",
    "    #return percolation_list\n",
    "\n",
    "\n",
    "# Displacements from a cell to its eight nearest neighbours\n",
    "neighbourhood = ((-1,-1), (-1,0), (-1,1), (0,-1), (0, 1), (1,-1), (1,0), (1,1))\n",
    "EMPTY, TREE, FIRE, UNCERTAIN = 0, 1, 2, 3\n",
    "# Colours for visualization: brown for EMPTY, dark green for TREE and orange\n",
    "# for FIRE. Note that for the colormap to work, this list and the bounds list\n",
    "# must be one larger than the number of different values in the array.\n",
    "colors_list = [(0.2,0,0), (0,0.5,0), (1,0,0), 'orange']\n",
    "cmap = colors.ListedColormap(colors_list)\n",
    "bounds = [0,1,2,3]\n",
    "norm = colors.BoundaryNorm(bounds, cmap.N)\n",
    "\n",
    "def iterate(X):\n",
    "    \"\"\"Iterate the forest according to the forest-fire rules.\"\"\"\n",
    "\n",
    "    # The boundary of the forest is always empty, so only consider cells\n",
    "    # indexed from 1 to nx-2, 1 to ny-2\n",
    "    X1 = np.zeros((ny, nx))\n",
    "    for ix in range(1,nx-1):\n",
    "        for iy in range(1,ny-1):\n",
    "            if X[iy,ix] == EMPTY and np.random.random() <= p:\n",
    "                X1[iy,ix] = TREE\n",
    "            if X[iy,ix] == TREE:\n",
    "                X1[iy,ix] = TREE\n",
    "                for dx,dy in neighbourhood:\n",
    "                    if X[iy+dy,ix+dx] == FIRE:\n",
    "                        X1[iy,ix] = FIRE\n",
    "                        break\n",
    "                else:\n",
    "                    if np.random.random() <= f:\n",
    "                        X1[iy,ix] = FIRE\n",
    "    return X1\n",
    "\n",
    "# The initial fraction of the forest occupied by trees.\n",
    "forest_fraction = 0.2\n",
    "# Probability of new tree growth per empty cell, and of lightning strike.\n",
    "p, f = 0.05, 0.001\n",
    "# Forest size (number of cells in x and y directions).\n",
    "nx, ny = 100, 100\n",
    "# Initialize the forest grid.\n",
    "X  = np.zeros((ny, nx))\n",
    "X[1:ny-1, 1:nx-1] = np.random.randint(0, 2, size=(ny-2, nx-2))\n",
    "X[1:ny-1, 1:nx-1] = np.random.random(size=(ny-2, nx-2)) < forest_fraction\n",
    "\n",
    "fig = plt.figure(figsize=(25/3, 6.25))\n",
    "ax = fig.add_subplot(111)\n",
    "ax.set_axis_off()\n",
    "im = ax.imshow(X, cmap=cmap, norm=norm)#, interpolation='nearest')\n",
    "\n",
    "# The animation function: called to produce a frame for each generation.\n",
    "def animate(i):\n",
    "    im.set_data(animate.X)\n",
    "    animate.X = iterate(animate.X)\n",
    "# Bind our grid to the identifier X in the animate function's namespace.\n",
    "animate.X = X\n",
    "\n",
    "# Interval between frames (ms).\n",
    "interval = 100\n",
    "anim = animation.FuncAnimation(fig, animate, interval=interval)\n",
    "plt.show()"
   ]
  },
  {
   "cell_type": "code",
   "execution_count": 12,
   "metadata": {},
   "outputs": [
    {
     "name": "stdout",
     "output_type": "stream",
     "text": [
      "[0, 2, 0, 2, 0, 2, 0, 2, 0, 2, 0, 2, 0, 2, 0, 2, 0, 2, 0, 2, 0, 2, 0, 2, 0, 2, 0, 2, 0, 2, 0, 2, 0, 2, 0, 2, 0, 2, 0, 2, 0, 2, 0, 2, 0, 2, 0, 2, 0, 2, 0, 2, 0, 2, 0, 2, 0, 2, 0, 2, 0, 2, 0, 2, 0, 2, 0, 2, 0, 2, 0, 2, 0, 2, 0, 2, 0, 2, 0, 2, 0, 2, 0, 2, 0, 2, 0, 2, 0, 2, 0, 2, 0, 2, 0, 2, 0, 2, 0, 2]\n"
     ]
    },
    {
     "ename": "TypeError",
     "evalue": "object of type <class 'float'> cannot be safely interpreted as an integer.",
     "output_type": "error",
     "traceback": [
      "\u001b[0;31m---------------------------------------------------------------------------\u001b[0m",
      "\u001b[0;31mTypeError\u001b[0m                                 Traceback (most recent call last)",
      "\u001b[0;32m/opt/tljh/user/lib/python3.7/site-packages/numpy/core/function_base.py\u001b[0m in \u001b[0;36mlinspace\u001b[0;34m(start, stop, num, endpoint, retstep, dtype, axis)\u001b[0m\n\u001b[1;32m    116\u001b[0m     \u001b[0;32mtry\u001b[0m\u001b[0;34m:\u001b[0m\u001b[0;34m\u001b[0m\u001b[0;34m\u001b[0m\u001b[0m\n\u001b[0;32m--> 117\u001b[0;31m         \u001b[0mnum\u001b[0m \u001b[0;34m=\u001b[0m \u001b[0moperator\u001b[0m\u001b[0;34m.\u001b[0m\u001b[0mindex\u001b[0m\u001b[0;34m(\u001b[0m\u001b[0mnum\u001b[0m\u001b[0;34m)\u001b[0m\u001b[0;34m\u001b[0m\u001b[0;34m\u001b[0m\u001b[0m\n\u001b[0m\u001b[1;32m    118\u001b[0m     \u001b[0;32mexcept\u001b[0m \u001b[0mTypeError\u001b[0m\u001b[0;34m:\u001b[0m\u001b[0;34m\u001b[0m\u001b[0;34m\u001b[0m\u001b[0m\n",
      "\u001b[0;31mTypeError\u001b[0m: 'float' object cannot be interpreted as an integer",
      "\nDuring handling of the above exception, another exception occurred:\n",
      "\u001b[0;31mTypeError\u001b[0m                                 Traceback (most recent call last)",
      "\u001b[0;32m<ipython-input-12-b21960a3ad0a>\u001b[0m in \u001b[0;36m<module>\u001b[0;34m\u001b[0m\n\u001b[1;32m      1\u001b[0m \u001b[0mprint\u001b[0m\u001b[0;34m(\u001b[0m\u001b[0mground_vegetation\u001b[0m\u001b[0;34m(\u001b[0m\u001b[0;36m100\u001b[0m\u001b[0;34m)\u001b[0m\u001b[0;34m)\u001b[0m                                             \u001b[0;31m#testing our functions\u001b[0m\u001b[0;34m\u001b[0m\u001b[0;34m\u001b[0m\u001b[0m\n\u001b[1;32m      2\u001b[0m \u001b[0;34m\u001b[0m\u001b[0m\n\u001b[0;32m----> 3\u001b[0;31m \u001b[0mprint\u001b[0m\u001b[0;34m(\u001b[0m\u001b[0mslope\u001b[0m\u001b[0;34m(\u001b[0m\u001b[0;36m1\u001b[0m\u001b[0;34m)\u001b[0m\u001b[0;34m)\u001b[0m\u001b[0;34m\u001b[0m\u001b[0;34m\u001b[0m\u001b[0m\n\u001b[0m",
      "\u001b[0;32m<ipython-input-11-991482a5bcc0>\u001b[0m in \u001b[0;36mslope\u001b[0;34m(x)\u001b[0m\n\u001b[1;32m     36\u001b[0m     \u001b[0mburn_list1\u001b[0m \u001b[0;34m=\u001b[0m \u001b[0;34m[\u001b[0m\u001b[0;34m]\u001b[0m\u001b[0;34m\u001b[0m\u001b[0;34m\u001b[0m\u001b[0m\n\u001b[1;32m     37\u001b[0m \u001b[0;34m\u001b[0m\u001b[0m\n\u001b[0;32m---> 38\u001b[0;31m     \u001b[0mforest\u001b[0m \u001b[0;34m=\u001b[0m \u001b[0mnp\u001b[0m\u001b[0;34m.\u001b[0m\u001b[0mlinspace\u001b[0m\u001b[0;34m(\u001b[0m\u001b[0;34m-\u001b[0m\u001b[0;36m10\u001b[0m\u001b[0;34m,\u001b[0m \u001b[0;36m10\u001b[0m\u001b[0;34m,\u001b[0m \u001b[0;36m.1\u001b[0m\u001b[0;34m)\u001b[0m                           \u001b[0;31m#creates the range of cells to be evaluated\u001b[0m\u001b[0;34m\u001b[0m\u001b[0;34m\u001b[0m\u001b[0m\n\u001b[0m\u001b[1;32m     39\u001b[0m \u001b[0;34m\u001b[0m\u001b[0m\n\u001b[1;32m     40\u001b[0m     \u001b[0;32mfor\u001b[0m \u001b[0mk\u001b[0m \u001b[0;32min\u001b[0m \u001b[0mforest\u001b[0m\u001b[0;34m:\u001b[0m\u001b[0;34m\u001b[0m\u001b[0;34m\u001b[0m\u001b[0m\n",
      "\u001b[0;32m<__array_function__ internals>\u001b[0m in \u001b[0;36mlinspace\u001b[0;34m(*args, **kwargs)\u001b[0m\n",
      "\u001b[0;32m/opt/tljh/user/lib/python3.7/site-packages/numpy/core/function_base.py\u001b[0m in \u001b[0;36mlinspace\u001b[0;34m(start, stop, num, endpoint, retstep, dtype, axis)\u001b[0m\n\u001b[1;32m    119\u001b[0m         raise TypeError(\n\u001b[1;32m    120\u001b[0m             \u001b[0;34m\"object of type {} cannot be safely interpreted as an integer.\"\u001b[0m\u001b[0;34m\u001b[0m\u001b[0;34m\u001b[0m\u001b[0m\n\u001b[0;32m--> 121\u001b[0;31m                 .format(type(num)))\n\u001b[0m\u001b[1;32m    122\u001b[0m \u001b[0;34m\u001b[0m\u001b[0m\n\u001b[1;32m    123\u001b[0m     \u001b[0;32mif\u001b[0m \u001b[0mnum\u001b[0m \u001b[0;34m<\u001b[0m \u001b[0;36m0\u001b[0m\u001b[0;34m:\u001b[0m\u001b[0;34m\u001b[0m\u001b[0;34m\u001b[0m\u001b[0m\n",
      "\u001b[0;31mTypeError\u001b[0m: object of type <class 'float'> cannot be safely interpreted as an integer."
     ]
    }
   ],
   "source": [
    "print(ground_vegetation(100))                                             #testing our functions\n",
    "\n",
    "print(slope(1))"
   ]
  },
  {
   "cell_type": "code",
   "execution_count": null,
   "metadata": {},
   "outputs": [],
   "source": [
    "###### "
   ]
  }
 ],
 "metadata": {
  "kernelspec": {
   "display_name": "Python 3",
   "language": "python",
   "name": "python3"
  },
  "language_info": {
   "codemirror_mode": {
    "name": "ipython",
    "version": 3
   },
   "file_extension": ".py",
   "mimetype": "text/x-python",
   "name": "python",
   "nbconvert_exporter": "python",
   "pygments_lexer": "ipython3",
   "version": "3.7.3"
  }
 },
 "nbformat": 4,
 "nbformat_minor": 4
}
