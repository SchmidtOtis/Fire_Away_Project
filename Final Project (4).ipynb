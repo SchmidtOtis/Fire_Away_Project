{
 "cells": [
  {
   "cell_type": "markdown",
   "metadata": {},
   "source": [
    "## Introduction"
   ]
  },
  {
   "cell_type": "markdown",
   "metadata": {},
   "source": [
    "Forest fires are a natural disaster that have significant environmental ramifications, and have increased in frequency which coincides with the issue of climate change. In the United States alone, over 70,000 forest fires burn an average of 7 million acres every year (1). Wildfires are often directly influenced by human interaction, with close to 90% having some link to a man-made ignition point (1). Another major factor in the spread of forest fires is the topography of the land. Fire travels much faster uphill than downhill, as it is able to preheat the fuel above the flames, meaning that the steeper the gradient of the hill, the faster the fire will spread (2). Finally, the type of fuel the fire is burning through contributes to the speed, flame size, and temperature of the fire. Larger fuels, such as trees and heavy slash (fallen branches, brush, etc.), burns hotter, with larger flame sizes than smaller fuels such as grass and thin brush (spread out over a larger area) (3). Historically, forests have contained roughly 50-70 trees per acre, while today, in some parts of the United States, forests contain anywhere from 500-1000 trees per acre (3). This overcrowding of forests has led to both high mortality rates among trees, and explosive forest fires that devastate entire tree populations in record times.\n",
    "\n",
    "The forest fire model involves a multitude of physical factors, yet all of them cannot be evaluated in this project. This research will consider three physical attributes that can influence the spread of a fire: the varying slopes of hills and valleys, the type of fuel the fire is burning through, and the concentration of trees in the simulated forest. With lower probabilties for a contribution to fire spread, ground vegetation will have less of a chance of spreading from cell to cell than larger fuels like the trees in this scenario. In order to mimic a forest that has sub-optimum conditions for a forest fire, the concentration of trees for this project will be above 5000 trees per 10000 cells. Finally, in an effort to mimic terrain that doesn't rise and fall in an easily modeled fashion, the slopes that trees are on will be generated in a fashion that will be described in further detail in the model section below. The larger the slope value, the more likely the transition from one cell to the next.\n",
    "\n",
    "While forest fires can have conditions that change rapidly, it is necessary to set up some constants that will set the boundaries for the model below. The size of the forest will be predetermined for each experiment, but the simulation will end once the probability for fire has been calculated for every cell within the \"forest\". The goal of this simulation is to experiment with ways to reduce the transition rate of fire from one cell to the next, in an effort to determine actual physical measures that humans can take to limit the impact of forest fires. Therefore, multiple simulations will be run with different possible values for slope size, and different values of ground vegetation fire transition. By the end of this project, the research should convey data on how the aforementioned factors relate to the spread of fire, as well as which preventitive measures (changing the variables) achieved effective results."
   ]
  },
  {
   "cell_type": "markdown",
   "metadata": {},
   "source": [
    "## Model"
   ]
  },
  {
   "cell_type": "markdown",
   "metadata": {},
   "source": [
    "In order to simulate a forest, this project will generate a two-dimensional grid that assigns each cell a value of either empty, a tree, or an active burn designation. The constants in this project are the probabilities for a lightning strike, new tree growth, vegetation, as well as the fraction of the forest that is already occupied by trees. Using an initialized forest grid, the cell values are assigned based on whether the numerical values in the initialized grid add up to the determined numerical values for the cell designation, or are within the probability constants. The hill was determined using the two-dimensional Gaussian distribution function:\n",
    "$ Aexp(−((x−xo)^2/(2σ_X^2)+(y−yo)^2/(2σ_Y^2)) $. The derivative of this function will also be used to determine the slope of each calculated cell. The forest simulation will involve a 100x100 grid, and the simulation will terminate once all of the cells have been evaluated for cell designation. The generated forest cell is shown below. The green cells are trees, the black cells are empty vegetation cells, and the orange cells are active fire cells."
   ]
  },
  {
   "cell_type": "markdown",
   "metadata": {},
   "source": [
    "## Numerical Methods"
   ]
  },
  {
   "cell_type": "markdown",
   "metadata": {},
   "source": [
    "In order to solve the Gaussian function for this project, the x0 and y0 values will be established through the mean value of the hill coordinates to the nearest integer. The spread of the distribution will be calculated by subtracting the minimum coordinate value from the maximum coordinate value for both the x and y values. In order to find the slope at each point within the coordinate field, a point will be generated on each side of the selected coordinate and the generated point with the smaller coordinate value of the two will be subtracted from the larger point in order to determine the slope for the desired coordinate. This will be repeated for each coordinate point within the Gaussian distribution. The slope will then be measured against burn probabilities in order to assign a burn or empty designation. The forest generated outside of the hill will receive cell designations based on whether the coordinate values from the initialized forest grid add up to a numerical designation for cell assignment. If the cell designation is empty, a random number will be generated and if that number fits within the probability for new tree growth, it will be reassigned a tree designation. Finally, the ground vegetation will be determined through a random number generation and will be given an equal probability to burn or remain intact. These methods are limited by accuracy, as the slope will be a generalization, due to the both the method, and the nature of hills to not be exactly alligned with a Gaussian distribution. Also, the use of random numbers and probabilities limit the project, as these are merely estimates, and can not exactly replicate the varying behavior of forest fires."
   ]
  },
  {
   "cell_type": "markdown",
   "metadata": {},
   "source": [
    "## Code"
   ]
  },
  {
   "cell_type": "code",
   "execution_count": 2,
   "metadata": {},
   "outputs": [
    {
     "name": "stdout",
     "output_type": "stream",
     "text": [
      "1.6077353181229945\n"
     ]
    }
   ],
   "source": [
    "import numpy as np\n",
    "import matplotlib.pyplot as plt\n",
    "from matplotlib import animation\n",
    "from matplotlib import colors\n",
    "\n",
    "rng = np.random.default_rng()  # Create a default random number Generator\n",
    "print(rng.uniform(1, 3))       # Test case"
   ]
  },
  {
   "cell_type": "code",
   "execution_count": 4,
   "metadata": {},
   "outputs": [
    {
     "name": "stdout",
     "output_type": "stream",
     "text": [
      "Empty = 1714\n",
      "Tree = 2881\n",
      "Fire = 6548\n"
     ]
    },
    {
     "data": {
      "image/png": "[encoded data removed]",
      "text/plain": [
       "<Figure size 600x450 with 1 Axes>"
      ]
     },
     "metadata": {
      "needs_background": "light"
     },
     "output_type": "display_data"
    }
   ],
   "source": [
    "\n",
    "X1 = 1                                #defining an initial X1 so the code runs\n",
    "\n",
    "def ground_vegetation(X,iy, ix):\n",
    "    \n",
    "    \"\"\"Determines whether a space is empty vegetation or on fire.\n",
    "    \n",
    "    Given the determination that ground fuel doesn't burn consistently, this function\n",
    "    assigns a burn designation for cells determined to have ground vegetation, based on a\n",
    "    random generation of a number. Only possibilities are empty cells, which indicates \n",
    "    non-burning ground vegetation, or fire designation, indicating vegetation on fire.\n",
    "    \n",
    "    x = randomly generated number which is the basis for the burn designation.\"\"\"\n",
    "    \n",
    "    x = np.random.random()\n",
    "    \n",
    "    if x < .5:\n",
    "        X1[iy,ix] = FIRE\n",
    "    \n",
    "    else:\n",
    "        X1[iy,ix] = EMPTY\n",
    "    \n",
    "    return X1[iy, ix]\n",
    "\n",
    "\n",
    "def Gaussian(X, hill_min, hill_max, A):\n",
    "    \n",
    "    \"\"\"Determines burn status for fuel on a determined hill.\n",
    "    \n",
    "    Using the dervative of the Two Dimensional Gaussian distribution, this function\n",
    "    evaluates the slope at each point within the range, and proceeds to assign a burn\n",
    "    probability for that point. The burn probability is then used to evaluate whether\n",
    "    each point is on fire or not.\n",
    "    \n",
    "    y0 = y-coordinate center of hill\n",
    "    \n",
    "    x0 = x-coordinate center of hill\n",
    "    \n",
    "    range_max = last point evaluated within the hill\n",
    "    \n",
    "    hill_min = x,y coordinate of the beginning of the hill\n",
    "    \n",
    "    hill_max = x,y coordinate of the end of the hill\n",
    "    \n",
    "    x_spread = spread of distribution in x axis\n",
    "    \n",
    "    y_spread = spread of distribution in y axis\n",
    "    \n",
    "    A = variable for amplitude of hill\n",
    "    \n",
    "    X2 = list of burn assignments for cells on the hill.\"\"\"\n",
    "    \n",
    "    X2 = []                                                #initializes burn list\n",
    "    \n",
    "    \n",
    "    y0 = (hill_max - hill_min)//2                        #determines center point/peak of the hill\n",
    "    x0 = (hill_max - hill_min)//2                        #in both x and y coordinates\n",
    "    \n",
    "    range_max = (hill_max - hill_min) + 1                #sets range for point calculation\n",
    "    \n",
    "    x_spread = hill_max - hill_min                       #sets the spread of the distribution\n",
    "    y_spread = hill_max - hill_min\n",
    "    \n",
    "    for x in range(1, range_max):\n",
    "        for y in range(1, range_max):\n",
    "            \n",
    "            #value for larger generated coordinate point\n",
    "            t = A * np.exp(-((((x+.5)-x0)**2/(2*(x_spread**2))) + (((y+.5)-y0)**2/(2*(y_spread**2)))))\n",
    "            #value for smaller generated coordinate point\n",
    "            q = A * np.exp(-((((x-.5)-x0)**2/(2*(x_spread**2))) + (((y-.5)-y0)**2/(2*(y_spread**2)))))\n",
    "            \n",
    "            slope = t - q      #determines slope value\n",
    "            \n",
    "            if slope > 1:         #if slope is steep, FIRE designation is guaranteed\n",
    "                X2.append(2)\n",
    "                \n",
    "            elif -1 < slope < 1:           #at top of hill, probability of FIRE decreases linearly\n",
    "                x = np.random.random()\n",
    "                \n",
    "                if x > .25:\n",
    "                    X2.append(2)\n",
    "                else:\n",
    "                    X2.append(1)\n",
    "                    \n",
    "            else:\n",
    "                x = np.random.random       #going downhill, probability of FIRE decreases further linearly\n",
    "                \n",
    "                if x > .5:\n",
    "                    X2.append(2)\n",
    "                else:\n",
    "                    X2.append(1)\n",
    "        \n",
    "    \n",
    "    \n",
    "    \n",
    "    return X2\n",
    "    \n",
    "    \n",
    "    \n",
    "    \n",
    "    \n",
    "    \n",
    "# the neighbourhood is the nearest 8 cells to the point in consideration\n",
    "neighbourhood = ((-1,-1), (-1,0), (-1,1), (0,-1), (0, 1), (1,-1), (1,0), (1,1))\n",
    "EMPTY, TREE, FIRE = 0, 1, 2    #number values for cell designations\n",
    "\n",
    "\n",
    "# Colours for visualization: brown for EMPTY, dark green for TREE and orange\n",
    "# for FIRE.\n",
    "colors_list = [(0.2,0,0), (0,0.5,0), (1,0,0), 'orange']\n",
    "cmap = colors.ListedColormap(colors_list)               #sets up colors for simulation\n",
    "bounds = [0,1,2,3]\n",
    "norm = colors.BoundaryNorm(bounds, cmap.N)\n",
    "\n",
    "\n",
    "def iterate(X, hill_min, hill_max, A):\n",
    "    \"\"\"Iterate the forest according to the forest-fire rules.\n",
    "    \n",
    "    Given the number values for cell designation, this function generates a forest of\n",
    "    empty cells of ground vegetation, cells with trees that aren't on fire, and cells\n",
    "    that are actively burning. It also generates a hill within the forest.\n",
    "    \n",
    "    X = initialized forest grid\n",
    "    \n",
    "    hill_min = beginning of hill coordinates\n",
    "    \n",
    "    hill_max = end of hill coordinates\n",
    "    \n",
    "    X1 = coordinate list with the cell designations\n",
    "    \n",
    "    A = variable for amplitude of hill\n",
    "    \n",
    "    \"\"\"\n",
    "\n",
    "    Empty = []\n",
    "    Tree = []\n",
    "    Fire = []\n",
    "    \n",
    "    X1 = np.zeros((ny, nx))              #initializes cells in the forest\n",
    "    for ix in range(1, hill_min):\n",
    "        for iy in range(1,hill_min):     #values for cells before the hill\n",
    "            if X[iy,ix] == EMPTY and np.random.random() <= p: #assigns tree values based on new-tree growth\n",
    "                X1[iy,ix] = TREE                             #probability\n",
    "                Tree.append(1)\n",
    "                \n",
    "            if X[iy,ix] == TREE:\n",
    "                X1[iy,ix] = TREE\n",
    "                Tree.append(1)\n",
    "            \n",
    "            if X[iy, ix] == EMPTY and p < np.random.random() < b:\n",
    "                x = np.random.random()\n",
    "    \n",
    "                if x < .5:\n",
    "                    X1[iy,ix] = FIRE\n",
    "                    Fire.append(2)\n",
    "                \n",
    "    \n",
    "                else:\n",
    "                    X1[iy,ix] = EMPTY       #generates vegetation burn designations\n",
    "                    Empty.append(0)\n",
    "                \n",
    "                for dx,dy in neighbourhood:\n",
    "                    \n",
    "                    if X[iy+dy,ix+dx] == FIRE:          #assigns a FIRE designation for cells within the neighborhood\n",
    "                        X1[iy, ix] == FIRE              #that have a numerical value equal to the FIRE value\n",
    "                        Fire.append(2)\n",
    "                        break\n",
    "                       \n",
    "                    \n",
    "                else:\n",
    "                    if np.random.random() <= f:        #assigns a FIRE designation for cells that are struck\n",
    "                        X1[iy,ix] = FIRE               #by lightning based on the lightning probability\n",
    "                        Fire.append(2)\n",
    "    \n",
    "    for ix in range(hill_min,hill_max):       #assigns cell designations for cells within the hill\n",
    "        for iy in range(hill_min,hill_max):\n",
    "            if X[iy,ix] == EMPTY and np.random.random() <= p:\n",
    "                X1[iy,ix] = TREE\n",
    "                Tree.append(1)\n",
    "            \n",
    "            if X[iy,ix] == TREE:                     #determines tree and empty cells for the hill\n",
    "                X1[iy,ix] = TREE\n",
    "                Tree.append(1)\n",
    "            \n",
    "            if X[iy, ix] == EMPTY and p < np.random.random() < b:\n",
    "                x = np.random.random()\n",
    "    \n",
    "                if x < .5:\n",
    "                    X1[iy,ix] = FIRE\n",
    "                    Fire.append(2)\n",
    "    \n",
    "                else:\n",
    "                    X1[iy,ix] = EMPTY             #determines ground vegetation cells\n",
    "                    Empty.append(0)\n",
    "                    \n",
    "        for iy in range(hill_min, hill_max):      #assigns burn designations for the hill\n",
    "            \n",
    "            X2 = Gaussian(X, hill_min, hill_max, A)\n",
    "            \n",
    "            length = len(X2)                        #determines length of list\n",
    "            \n",
    "           \n",
    "            for i in range(0, length-1):\n",
    "                \n",
    "                w = X2[i]                           #determines value of coordinate point \n",
    "                \n",
    "                if w == 2:\n",
    "                    X1[iy, ix] == FIRE  #assigns cell designation for hill coordinates\n",
    "                    Fire.append(2)\n",
    "                    \n",
    "                else:\n",
    "                    X1[iy, ix] == TREE\n",
    "                    Tree.append(1)\n",
    "                \n",
    "                        \n",
    "                        \n",
    "                        \n",
    "    for ix in range(hill_max,nx-1):\n",
    "        for iy in range(hill_max,ny-1):            #values for cells after the hill\n",
    "            if X[iy,ix] == EMPTY and np.random.random() <= p:\n",
    "                X1[iy,ix] = TREE\n",
    "                Tree.append(1)\n",
    "                                                   #determines tree and empty cells\n",
    "            if X[iy,ix] == TREE:\n",
    "                X1[iy,ix] = TREE\n",
    "                Tree.append(1)\n",
    "            \n",
    "            if X[iy, ix] == EMPTY and p < np.random.random() < b:\n",
    "                x = np.random.random()\n",
    "    \n",
    "                if x < .5:\n",
    "                    X1[iy,ix] = FIRE\n",
    "                    Fire.append(2)\n",
    "    \n",
    "                else:\n",
    "                    X1[iy,ix] = EMPTY               #determines ground vegetation cells\n",
    "                    Empty.append(0)\n",
    "                    \n",
    "                for dx,dy in neighbourhood:\n",
    "                    \n",
    "                    if X[iy+dy,ix+dx] == FIRE:     #assigns a FIRE designation for cells within the neighborhood\n",
    "                        X1[iy, ix] == FIRE         #that have a numerical value equal to the FIRE value\n",
    "                        Fire.append(2)\n",
    "                        break\n",
    "                   \n",
    "                    \n",
    "                \n",
    "                else:\n",
    "                    if np.random.random() <= f:   #assigns a FIRE designation for cells that are struck\n",
    "                        X1[iy,ix] = FIRE          #by lightning based on the lightning probability\n",
    "                        Fire.append(2)\n",
    "    \n",
    "    return X1, Empty, Tree, Fire\n",
    "\n",
    "\n",
    "# The initial fraction of the forest occupied by trees.\n",
    "forest_fraction = 0.2\n",
    "\n",
    "# Probability of new tree growth per empty cell, vegetation per empty cell, and of lightning strike.\n",
    "p, b, f = 0.05, .85, .001\n",
    "\n",
    "# Forest size (number of cells in x and y directions).\n",
    "nx, ny = 100, 100\n",
    "\n",
    "# Creates the forest grid used in the iteration function\n",
    "X  = np.zeros((ny, nx))\n",
    "X[1:ny-1, 1:nx-1] = np.random.randint(0, 2, size=(ny-2, nx-2))\n",
    "X[1:ny-1, 1:nx-1] = np.random.random(size=(ny-2, nx-2)) < forest_fraction\n",
    "\n",
    "#creates the plot\n",
    "fig = plt.figure(figsize=(25/3, 6.25))\n",
    "ax = fig.add_subplot(111)\n",
    "ax.set_axis_off()\n",
    "im = ax.imshow(X, cmap=cmap, norm=norm)\n",
    "ax.set_title(\"Base Case\")\n",
    "\n",
    "X1, empty, tree, fire = iterate(X, 71, 80, 3)\n",
    "print(\"Empty =\", len(empty))\n",
    "print(\"Tree =\", len(tree))\n",
    "print(\"Fire =\", len(fire))\n",
    "\n",
    "\n",
    "def animate(i):\n",
    "    \n",
    "    \"\"\"Creates an animation progression for each generation of iteration function.\n",
    "    \n",
    "    Uses the iteration function to display the results of the fire simulation.\n",
    "    \n",
    "    X = the initialized forest grid.\"\"\"\n",
    "    \n",
    "    im.set_data(animate.X)\n",
    "    animate.X = iterate(animate.X, 71, 80, 3)\n",
    "\n",
    "\n",
    "#animate.X = X\n",
    "\n",
    "# Interval between frames\n",
    "#interval = 100\n",
    "#anim = animation.FuncAnimation(fig, animate, interval=interval)\n",
    "#plt.show()\n"
   ]
  },
  {
   "cell_type": "code",
   "execution_count": 14,
   "metadata": {},
   "outputs": [
    {
     "name": "stdout",
     "output_type": "stream",
     "text": [
      "Empty = 1004\n",
      "Tree = 2779\n",
      "Fire = 5919\n"
     ]
    },
    {
     "data": {
      "image/png": "[encoded data removed]",
      "text/plain": [
       "<Figure size 600x450 with 1 Axes>"
      ]
     },
     "metadata": {
      "needs_background": "light"
     },
     "output_type": "display_data"
    }
   ],
   "source": [
    "# Second test case with higher lightning, lower vegetation, and lower new-growth probabilties. Gaussian hill is also\n",
    "#steeper\n",
    "\n",
    "\n",
    "# The initial fraction of the forest occupied by trees.\n",
    "forest_fraction = 0.2\n",
    "\n",
    "# Probability of new tree growth per empty cell, vegetation per empty cell, and of lightning strike.\n",
    "p, b, f = 0.02, .50, .003\n",
    "\n",
    "# Forest size (number of cells in x and y directions).\n",
    "nx, ny = 100, 100\n",
    "\n",
    "# Creates the forest grid used in the iteration function\n",
    "X  = np.zeros((ny, nx))\n",
    "X[1:ny-1, 1:nx-1] = np.random.randint(0, 2, size=(ny-2, nx-2))\n",
    "X[1:ny-1, 1:nx-1] = np.random.random(size=(ny-2, nx-2)) < forest_fraction\n",
    "\n",
    "#creates the plot\n",
    "fig = plt.figure(figsize=(25/3, 6.25))\n",
    "ax = fig.add_subplot(111)\n",
    "ax.set_axis_off()\n",
    "im = ax.imshow(X, cmap=cmap, norm=norm)\n",
    "ax.set_title(\"Fig. 2\")\n",
    "\n",
    "\n",
    "X1, empty, tree, fire = iterate(X, 71, 80, 5)\n",
    "print(\"Empty =\", len(empty))\n",
    "print(\"Tree =\", len(tree))\n",
    "print(\"Fire =\", len(fire))"
   ]
  },
  {
   "cell_type": "code",
   "execution_count": 15,
   "metadata": {},
   "outputs": [
    {
     "name": "stdout",
     "output_type": "stream",
     "text": [
      "Empty = 1721\n",
      "Tree = 3081\n",
      "Fire = 6567\n"
     ]
    },
    {
     "data": {
      "image/png": "[encoded data removed]",
      "text/plain": [
       "<Figure size 600x450 with 1 Axes>"
      ]
     },
     "metadata": {
      "needs_background": "light"
     },
     "output_type": "display_data"
    }
   ],
   "source": [
    "#Third test case with lower lightning, higher vegetation, and higher new-growth probabilties. Gaussian hill is also\n",
    "#less steep\n",
    "\n",
    "\n",
    "# The initial fraction of the forest occupied by trees.\n",
    "forest_fraction = 0.2\n",
    "\n",
    "# Probability of new tree growth per empty cell, vegetation per empty cell, and of lightning strike.\n",
    "p, b, f = 0.10, .9, .0005\n",
    "\n",
    "# Forest size (number of cells in x and y directions).\n",
    "nx, ny = 100, 100\n",
    "\n",
    "# Creates the forest grid used in the iteration function\n",
    "X  = np.zeros((ny, nx))\n",
    "X[1:ny-1, 1:nx-1] = np.random.randint(0, 2, size=(ny-2, nx-2))\n",
    "X[1:ny-1, 1:nx-1] = np.random.random(size=(ny-2, nx-2)) < forest_fraction\n",
    "\n",
    "#creates the plot\n",
    "fig = plt.figure(figsize=(25/3, 6.25))\n",
    "ax = fig.add_subplot(111)\n",
    "ax.set_axis_off()\n",
    "im = ax.imshow(X, cmap=cmap, norm=norm)\n",
    "ax.set_title(\"Fig. 3\")\n",
    "\n",
    "X1, empty, tree, fire = iterate(X, 71, 80, .05)\n",
    "print(\"Empty =\", len(empty))\n",
    "print(\"Tree =\", len(tree))\n",
    "print(\"Fire =\", len(fire))"
   ]
  },
  {
   "cell_type": "code",
   "execution_count": 5,
   "metadata": {},
   "outputs": [
    {
     "name": "stdout",
     "output_type": "stream",
     "text": [
      "Empty = 1217\n",
      "Tree = 4228\n",
      "Fire = 6057\n"
     ]
    },
    {
     "data": {
      "image/png": "[encoded data removed]",
      "text/plain": [
       "<Figure size 600x450 with 1 Axes>"
      ]
     },
     "metadata": {
      "needs_background": "light"
     },
     "output_type": "display_data"
    }
   ],
   "source": [
    "#Fourth test case with higher initial forest fraction, higher new-growth probabilties, and high vegetation probablilites\n",
    "#Gaussian hill is also less steep\n",
    "\n",
    "\n",
    "# The initial fraction of the forest occupied by trees.\n",
    "forest_fraction = 0.4\n",
    "\n",
    "# Probability of new tree growth per empty cell, vegetation per empty cell, and of lightning strike.\n",
    "p, b, f = 0.15, .9, .0005\n",
    "\n",
    "# Forest size (number of cells in x and y directions).\n",
    "nx, ny = 100, 100\n",
    "\n",
    "# Creates the forest grid used in the iteration function\n",
    "X  = np.zeros((ny, nx))\n",
    "X[1:ny-1, 1:nx-1] = np.random.randint(0, 2, size=(ny-2, nx-2))\n",
    "X[1:ny-1, 1:nx-1] = np.random.random(size=(ny-2, nx-2)) < forest_fraction\n",
    "\n",
    "#creates the plot\n",
    "fig = plt.figure(figsize=(25/3, 6.25))\n",
    "ax = fig.add_subplot(111)\n",
    "ax.set_axis_off()\n",
    "im = ax.imshow(X, cmap=cmap, norm=norm)\n",
    "ax.set_title(\"Fig. 4\")\n",
    "\n",
    "X1, empty, tree, fire = iterate(X, 71, 80, .05)\n",
    "print(\"Empty =\", len(empty))\n",
    "print(\"Tree =\", len(tree))\n",
    "print(\"Fire =\", len(fire))"
   ]
  },
  {
   "cell_type": "code",
   "execution_count": 6,
   "metadata": {},
   "outputs": [
    {
     "name": "stdout",
     "output_type": "stream",
     "text": [
      "Empty = 922\n",
      "Tree = 3513\n",
      "Fire = 5826\n"
     ]
    },
    {
     "data": {
      "image/png": "[encoded data removed]",
      "text/plain": [
       "<Figure size 600x450 with 1 Axes>"
      ]
     },
     "metadata": {
      "needs_background": "light"
     },
     "output_type": "display_data"
    }
   ],
   "source": [
    "#Fifth test case with lower lightning, low vegetation, and low new-growth probabilties. Gaussian hill is also\n",
    "#very steep\n",
    "\n",
    "\n",
    "# The initial fraction of the forest occupied by trees.\n",
    "forest_fraction = 0.2\n",
    "\n",
    "# Probability of new tree growth per empty cell, vegetation per empty cell, and of lightning strike.\n",
    "p, b, f = 0.2, .65, .0005\n",
    "\n",
    "# Forest size (number of cells in x and y directions).\n",
    "nx, ny = 100, 100\n",
    "\n",
    "# Creates the forest grid used in the iteration function\n",
    "X  = np.zeros((ny, nx))\n",
    "X[1:ny-1, 1:nx-1] = np.random.randint(0, 2, size=(ny-2, nx-2))\n",
    "X[1:ny-1, 1:nx-1] = np.random.random(size=(ny-2, nx-2)) < forest_fraction\n",
    "\n",
    "#creates the plot\n",
    "fig = plt.figure(figsize=(25/3, 6.25))\n",
    "ax = fig.add_subplot(111)\n",
    "ax.set_axis_off()\n",
    "im = ax.imshow(X, cmap=cmap, norm=norm)\n",
    "ax.set_title(\"Fig. 5\")\n",
    "\n",
    "X1, empty, tree, fire = iterate(X, 71, 80, 10)\n",
    "print(\"Empty =\", len(empty))\n",
    "print(\"Tree =\", len(tree))\n",
    "print(\"Fire =\", len(fire))"
   ]
  },
  {
   "cell_type": "code",
   "execution_count": 7,
   "metadata": {},
   "outputs": [
    {
     "name": "stdout",
     "output_type": "stream",
     "text": [
      "Empty = 1992\n",
      "Tree = 2737\n",
      "Fire = 6852\n"
     ]
    },
    {
     "data": {
      "image/png": "[encoded data removed]",
      "text/plain": [
       "<Figure size 600x450 with 1 Axes>"
      ]
     },
     "metadata": {
      "needs_background": "light"
     },
     "output_type": "display_data"
    }
   ],
   "source": [
    "#Sixth test case with lower lightning, higher vegetation, and low new-growth probabilties. Gaussian hill is also\n",
    "#less steep\n",
    "\n",
    "\n",
    "# The initial fraction of the forest occupied by trees.\n",
    "forest_fraction = 0.2\n",
    "\n",
    "# Probability of new tree growth per empty cell, vegetation per empty cell, and of lightning strike.\n",
    "p, b, f = 0.02, .95, .0005\n",
    "\n",
    "# Forest size (number of cells in x and y directions).\n",
    "nx, ny = 100, 100\n",
    "\n",
    "# Creates the forest grid used in the iteration function\n",
    "X  = np.zeros((ny, nx))\n",
    "X[1:ny-1, 1:nx-1] = np.random.randint(0, 2, size=(ny-2, nx-2))\n",
    "X[1:ny-1, 1:nx-1] = np.random.random(size=(ny-2, nx-2)) < forest_fraction\n",
    "\n",
    "#creates the plot\n",
    "fig = plt.figure(figsize=(25/3, 6.25))\n",
    "ax = fig.add_subplot(111)\n",
    "ax.set_axis_off()\n",
    "im = ax.imshow(X, cmap=cmap, norm=norm)\n",
    "ax.set_title(\"Fig. 6\")\n",
    "\n",
    "X1, empty, tree, fire = iterate(X, 71, 80, 1)\n",
    "print(\"Empty =\", len(empty))\n",
    "print(\"Tree =\", len(tree))\n",
    "print(\"Fire =\", len(fire))"
   ]
  },
  {
   "cell_type": "code",
   "execution_count": 8,
   "metadata": {},
   "outputs": [
    {
     "name": "stdout",
     "output_type": "stream",
     "text": [
      "Empty = 1955\n",
      "Tree = 3280\n",
      "Fire = 6755\n"
     ]
    },
    {
     "data": {
      "image/png": "[encoded data removed]",
      "text/plain": [
       "<Figure size 600x450 with 1 Axes>"
      ]
     },
     "metadata": {
      "needs_background": "light"
     },
     "output_type": "display_data"
    }
   ],
   "source": [
    "#Seventh test case simply changed the location of the Gaussian hill\n",
    "\n",
    "\n",
    "# The initial fraction of the forest occupied by trees.\n",
    "forest_fraction = 0.2\n",
    "\n",
    "# Probability of new tree growth per empty cell, vegetation per empty cell, and of lightning strike.\n",
    "p, b, f = 0.10, .9, .0005\n",
    "\n",
    "# Forest size (number of cells in x and y directions).\n",
    "nx, ny = 100, 100\n",
    "\n",
    "# Creates the forest grid used in the iteration function\n",
    "X  = np.zeros((ny, nx))\n",
    "X[1:ny-1, 1:nx-1] = np.random.randint(0, 2, size=(ny-2, nx-2))\n",
    "X[1:ny-1, 1:nx-1] = np.random.random(size=(ny-2, nx-2)) < forest_fraction\n",
    "\n",
    "#creates the plot\n",
    "fig = plt.figure(figsize=(25/3, 6.25))\n",
    "ax = fig.add_subplot(111)\n",
    "ax.set_axis_off()\n",
    "im = ax.imshow(X, cmap=cmap, norm=norm)\n",
    "ax.set_title(\"Fig. 7\")\n",
    "\n",
    "X1, empty, tree, fire = iterate(X, 15, 24, 3)\n",
    "print(\"Empty =\", len(empty))\n",
    "print(\"Tree =\", len(tree))\n",
    "print(\"Fire =\", len(fire))"
   ]
  },
  {
   "cell_type": "code",
   "execution_count": 9,
   "metadata": {},
   "outputs": [
    {
     "name": "stdout",
     "output_type": "stream",
     "text": [
      "Empty = 1177\n",
      "Tree = 203592\n",
      "Fire = 607671\n"
     ]
    },
    {
     "data": {
      "image/png": "[encoded data removed]",
      "text/plain": [
       "<Figure size 600x450 with 1 Axes>"
      ]
     },
     "metadata": {
      "needs_background": "light"
     },
     "output_type": "display_data"
    }
   ],
   "source": [
    "#Eight test case displays how a larger hill impacts the output numbers\n",
    "\n",
    "\n",
    "# The initial fraction of the forest occupied by trees.\n",
    "forest_fraction = 0.2\n",
    "\n",
    "# Probability of new tree growth per empty cell, vegetation per empty cell, and of lightning strike.\n",
    "p, b, f = 0.10, .9, .0005\n",
    "\n",
    "# Forest size (number of cells in x and y directions).\n",
    "nx, ny = 100, 100\n",
    "\n",
    "# Creates the forest grid used in the iteration function\n",
    "X  = np.zeros((ny, nx))\n",
    "X[1:ny-1, 1:nx-1] = np.random.randint(0, 2, size=(ny-2, nx-2))\n",
    "X[1:ny-1, 1:nx-1] = np.random.random(size=(ny-2, nx-2)) < forest_fraction\n",
    "\n",
    "#creates the plot\n",
    "fig = plt.figure(figsize=(25/3, 6.25))\n",
    "ax = fig.add_subplot(111)\n",
    "ax.set_axis_off()\n",
    "im = ax.imshow(X, cmap=cmap, norm=norm)\n",
    "ax.set_title(\"Fig. 8\")\n",
    "\n",
    "X1, empty, tree, fire = iterate(X, 50, 80, .05)\n",
    "print(\"Empty =\", len(empty))\n",
    "print(\"Tree =\", len(tree))\n",
    "print(\"Fire =\", len(fire))"
   ]
  },
  {
   "cell_type": "code",
   "execution_count": 10,
   "metadata": {},
   "outputs": [
    {
     "name": "stdout",
     "output_type": "stream",
     "text": [
      "Empty = 1292\n",
      "Tree = 2914\n",
      "Fire = 6296\n"
     ]
    },
    {
     "data": {
      "image/png": "[encoded data removed]",
      "text/plain": [
       "<Figure size 600x450 with 1 Axes>"
      ]
     },
     "metadata": {
      "needs_background": "light"
     },
     "output_type": "display_data"
    }
   ],
   "source": [
    "#Ninth test case with extremely high lightning, low tree, and low vegetation probabilities, Gaussian hill is not steep\n",
    "\n",
    "\n",
    "# The initial fraction of the forest occupied by trees.\n",
    "forest_fraction = 0.2\n",
    "\n",
    "# Probability of new tree growth per empty cell, vegetation per empty cell, and of lightning strike.\n",
    "p, b, f = 0.05, .65, .1\n",
    "\n",
    "# Forest size (number of cells in x and y directions).\n",
    "nx, ny = 100, 100\n",
    "\n",
    "# Creates the forest grid used in the iteration function\n",
    "X  = np.zeros((ny, nx))\n",
    "X[1:ny-1, 1:nx-1] = np.random.randint(0, 2, size=(ny-2, nx-2))\n",
    "X[1:ny-1, 1:nx-1] = np.random.random(size=(ny-2, nx-2)) < forest_fraction\n",
    "\n",
    "#creates the plot\n",
    "fig = plt.figure(figsize=(25/3, 6.25))\n",
    "ax = fig.add_subplot(111)\n",
    "ax.set_axis_off()\n",
    "im = ax.imshow(X, cmap=cmap, norm=norm)\n",
    "ax.set_title(\"Fig. 9\")\n",
    "\n",
    "X1, empty, tree, fire = iterate(X, 71, 80, 3)\n",
    "print(\"Empty =\", len(empty))\n",
    "print(\"Tree =\", len(tree))\n",
    "print(\"Fire =\", len(fire))"
   ]
  },
  {
   "cell_type": "markdown",
   "metadata": {},
   "source": [
    "## Results"
   ]
  },
  {
   "cell_type": "markdown",
   "metadata": {},
   "source": [
    "Most of these results are reasonable, as the output numbers are close to the total cell value within the grid. In order to evaluate the impacts of forest density, lighting, and the hills on the simulation, I ran a variety of trials while varying those variables. Larger forest density and significant slope size on the hills were the two biggest factors in large fire cell outputs."
   ]
  },
  {
   "cell_type": "markdown",
   "metadata": {},
   "source": [
    "## Analysis"
   ]
  },
  {
   "cell_type": "markdown",
   "metadata": {},
   "source": [
    "Our results seem reasonable, but only when the hill is of a certain size value. I verified this because the output numbers added up to be very close to 10,000 which is the total value of the grid. However, when the hill size was made larger, the output numbers added up to well above the total grid value, which leads to the conclusion that the code adds mutliple cell designations to cells when the simulation runs a large hill. However, with specified boundaries for the hill size, I was able to evaluate the impacts of the other variables on the spread of the fire. The probability of lightning strike was not a significant factor, but rather the slope of the hill and the density of the forest were the most significant factors in the generation of fire cells. With a large slope or a dense vegetation and tree population, the fire cell output numbers were larger, and with a less dense forest and low vegetation the fire cell output dropped significantly. When we created a forest with a larger number of initial trees the fire cell output was also significantly larger."
   ]
  },
  {
   "cell_type": "markdown",
   "metadata": {},
   "source": [
    "## Summary"
   ]
  },
  {
   "cell_type": "markdown",
   "metadata": {},
   "source": [
    "Scientific Summary: My project attempted to model the spread of a forest fire with varying physical factors. I achieved this with the use of a Gaussian distribution equation, and a variance of probabilities for new tree growth, vegetation and the start of a fire. I showed that the slope of a the hill impacts the rate at which the fire grows, and that density of the forest is key to how devastating a fire will be. This means that more dense forests will have a higher burn probability, and a fire will most likely decimate a tree population when moving uphill. These findings are very important for the fight against forest fires. \n",
    "\n",
    "Personal Summary: This project was meaningful for me because I live so close to areas that have been ravaged by forest fires. I enjoyed being able to rewrite the same code over and over again until it finally did what I wanted it to do. This project was a great example of how perserverance in computational physics can be vital to the success of a project, and it was exciting to finally achieve a model that was close to a real-life simulation."
   ]
  },
  {
   "cell_type": "markdown",
   "metadata": {},
   "source": [
    "## References"
   ]
  },
  {
   "cell_type": "markdown",
   "metadata": {},
   "source": [
    "Appendix B Fire and Fuels, National Geographic Area Coordination Centers, Fire Behavior Fuel Model Descriptions, (2001).\n",
    "Influence of slope on fire spread rate, B.W. Butler, W.R. Anderson, E.A. Catchpole, The Fire Environment-Innovations, Managementm and Policy: Conference Proceedings (P), (2007). \n",
    "Wildfire Statistics, K. Hoover, L. A. Hanson, Congressional Research Service (34), (2019)."
   ]
  }
 ],
 "metadata": {
  "kernelspec": {
   "display_name": "Python 3",
   "language": "python",
   "name": "python3"
  },
  "language_info": {
   "codemirror_mode": {
    "name": "ipython",
    "version": 3
   },
   "file_extension": ".py",
   "mimetype": "text/x-python",
   "name": "python",
   "nbconvert_exporter": "python",
   "pygments_lexer": "ipython3",
   "version": "3.7.3"
  }
 },
 "nbformat": 4,
 "nbformat_minor": 4
}
